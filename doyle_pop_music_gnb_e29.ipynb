{
 "cells": [
  {
   "cell_type": "code",
   "execution_count": 2,
   "metadata": {
    "collapsed": true
   },
   "outputs": [],
   "source": [
    "# Import everything we need.\n",
    "import csv\n",
    "import matplotlib.pyplot as plt\n",
    "import numpy as np\n",
    "import pandas as pd \n",
    "from sklearn.model_selection import train_test_split\n",
    "from sklearn.naive_bayes import GaussianNB\n",
    "from sklearn.metrics import accuracy_score"
   ]
  },
  {
   "cell_type": "markdown",
   "metadata": {},
   "source": [
    "We'll be using EvolutionPopUSA_MainData.csv dataset, posted by Matthias Mauch.\n",
    "\n",
    "\n",
    "Dataset url: https://figshare.com/articles/Main_Dataset_for_Evolution_of_Popular_Music_USA_1960_2010_/1309953"
   ]
  },
  {
   "cell_type": "markdown",
   "metadata": {},
   "source": [
    "Dataset was used for an article written by Matthias Mauch titled \"The evolution of popular music: USA 1960–2010\".  Mauch and his co-authors defined different musical features of songs, along with the artist name and year of popularity, and used these musical features over time.\n",
    "\n",
    "Article url: http://rsos.royalsocietypublishing.org/content/2/5/150081"
   ]
  },
  {
   "cell_type": "code",
   "execution_count": 48,
   "metadata": {
    "collapsed": false
   },
   "outputs": [
    {
     "data": {
      "text/html": [
       "<div>\n",
       "<style>\n",
       "    .dataframe thead tr:only-child th {\n",
       "        text-align: right;\n",
       "    }\n",
       "\n",
       "    .dataframe thead th {\n",
       "        text-align: left;\n",
       "    }\n",
       "\n",
       "    .dataframe tbody tr th {\n",
       "        vertical-align: top;\n",
       "    }\n",
       "</style>\n",
       "<table border=\"1\" class=\"dataframe\">\n",
       "  <thead>\n",
       "    <tr style=\"text-align: right;\">\n",
       "      <th></th>\n",
       "      <th>recording_id</th>\n",
       "      <th>artist_name</th>\n",
       "      <th>artist_name_clean</th>\n",
       "      <th>track_name</th>\n",
       "      <th>first_entry</th>\n",
       "      <th>quarter</th>\n",
       "      <th>year</th>\n",
       "      <th>fiveyear</th>\n",
       "      <th>decade</th>\n",
       "      <th>era</th>\n",
       "      <th>...</th>\n",
       "      <th>timb_26</th>\n",
       "      <th>timb_27</th>\n",
       "      <th>timb_28</th>\n",
       "      <th>timb_29</th>\n",
       "      <th>timb_30</th>\n",
       "      <th>timb_31</th>\n",
       "      <th>timb_32</th>\n",
       "      <th>timb_33</th>\n",
       "      <th>timb_34</th>\n",
       "      <th>timb_35</th>\n",
       "    </tr>\n",
       "  </thead>\n",
       "  <tbody>\n",
       "    <tr>\n",
       "      <th>0</th>\n",
       "      <td>1</td>\n",
       "      <td>Suzanne Vega</td>\n",
       "      <td>SUZANNEVEGA</td>\n",
       "      <td>Solitude Standing</td>\n",
       "      <td>1987-09-12</td>\n",
       "      <td>1987 Q3</td>\n",
       "      <td>1987</td>\n",
       "      <td>1985</td>\n",
       "      <td>1980</td>\n",
       "      <td>3</td>\n",
       "      <td>...</td>\n",
       "      <td>7</td>\n",
       "      <td>8</td>\n",
       "      <td>12</td>\n",
       "      <td>5</td>\n",
       "      <td>53</td>\n",
       "      <td>35</td>\n",
       "      <td>2</td>\n",
       "      <td>3</td>\n",
       "      <td>2</td>\n",
       "      <td>0</td>\n",
       "    </tr>\n",
       "    <tr>\n",
       "      <th>1</th>\n",
       "      <td>2</td>\n",
       "      <td>Janet Jackson ft Carly Simon</td>\n",
       "      <td>JANETJACKSON</td>\n",
       "      <td>Son Of A Gun (Betcha Think This Song Is About ...</td>\n",
       "      <td>2001-11-24</td>\n",
       "      <td>2001 Q4</td>\n",
       "      <td>2001</td>\n",
       "      <td>2000</td>\n",
       "      <td>2000</td>\n",
       "      <td>4</td>\n",
       "      <td>...</td>\n",
       "      <td>40</td>\n",
       "      <td>19</td>\n",
       "      <td>33</td>\n",
       "      <td>7</td>\n",
       "      <td>48</td>\n",
       "      <td>22</td>\n",
       "      <td>13</td>\n",
       "      <td>23</td>\n",
       "      <td>6</td>\n",
       "      <td>22</td>\n",
       "    </tr>\n",
       "    <tr>\n",
       "      <th>2</th>\n",
       "      <td>3</td>\n",
       "      <td>Neneh Cherry</td>\n",
       "      <td>NENEHCHERRY</td>\n",
       "      <td>Heart</td>\n",
       "      <td>1989-12-09</td>\n",
       "      <td>1989 Q4</td>\n",
       "      <td>1989</td>\n",
       "      <td>1985</td>\n",
       "      <td>1980</td>\n",
       "      <td>3</td>\n",
       "      <td>...</td>\n",
       "      <td>18</td>\n",
       "      <td>10</td>\n",
       "      <td>23</td>\n",
       "      <td>8</td>\n",
       "      <td>26</td>\n",
       "      <td>37</td>\n",
       "      <td>11</td>\n",
       "      <td>14</td>\n",
       "      <td>7</td>\n",
       "      <td>63</td>\n",
       "    </tr>\n",
       "    <tr>\n",
       "      <th>3</th>\n",
       "      <td>4</td>\n",
       "      <td>Neneh Cherry</td>\n",
       "      <td>NENEHCHERRY</td>\n",
       "      <td>Kisses On The Wind</td>\n",
       "      <td>1989-07-22</td>\n",
       "      <td>1989 Q3</td>\n",
       "      <td>1989</td>\n",
       "      <td>1985</td>\n",
       "      <td>1980</td>\n",
       "      <td>3</td>\n",
       "      <td>...</td>\n",
       "      <td>9</td>\n",
       "      <td>19</td>\n",
       "      <td>8</td>\n",
       "      <td>35</td>\n",
       "      <td>7</td>\n",
       "      <td>15</td>\n",
       "      <td>30</td>\n",
       "      <td>4</td>\n",
       "      <td>9</td>\n",
       "      <td>27</td>\n",
       "    </tr>\n",
       "    <tr>\n",
       "      <th>4</th>\n",
       "      <td>5</td>\n",
       "      <td>Junior M.A.F.I.A. Featuring The Notorious B.I.G.</td>\n",
       "      <td>JUNIORMAFIA</td>\n",
       "      <td>Get Money</td>\n",
       "      <td>1996-02-10</td>\n",
       "      <td>1996 Q1</td>\n",
       "      <td>1996</td>\n",
       "      <td>1995</td>\n",
       "      <td>1990</td>\n",
       "      <td>4</td>\n",
       "      <td>...</td>\n",
       "      <td>5</td>\n",
       "      <td>7</td>\n",
       "      <td>22</td>\n",
       "      <td>16</td>\n",
       "      <td>2</td>\n",
       "      <td>7</td>\n",
       "      <td>37</td>\n",
       "      <td>12</td>\n",
       "      <td>3</td>\n",
       "      <td>16</td>\n",
       "    </tr>\n",
       "  </tbody>\n",
       "</table>\n",
       "<p>5 rows × 269 columns</p>\n",
       "</div>"
      ],
      "text/plain": [
       "   recording_id                                       artist_name  \\\n",
       "0             1                                      Suzanne Vega   \n",
       "1             2                      Janet Jackson ft Carly Simon   \n",
       "2             3                                      Neneh Cherry   \n",
       "3             4                                      Neneh Cherry   \n",
       "4             5  Junior M.A.F.I.A. Featuring The Notorious B.I.G.   \n",
       "\n",
       "  artist_name_clean                                         track_name  \\\n",
       "0       SUZANNEVEGA                                  Solitude Standing   \n",
       "1      JANETJACKSON  Son Of A Gun (Betcha Think This Song Is About ...   \n",
       "2       NENEHCHERRY                                              Heart   \n",
       "3       NENEHCHERRY                                 Kisses On The Wind   \n",
       "4       JUNIORMAFIA                                          Get Money   \n",
       "\n",
       "  first_entry  quarter  year  fiveyear  decade  era   ...     timb_26  \\\n",
       "0  1987-09-12  1987 Q3  1987      1985    1980    3   ...           7   \n",
       "1  2001-11-24  2001 Q4  2001      2000    2000    4   ...          40   \n",
       "2  1989-12-09  1989 Q4  1989      1985    1980    3   ...          18   \n",
       "3  1989-07-22  1989 Q3  1989      1985    1980    3   ...           9   \n",
       "4  1996-02-10  1996 Q1  1996      1995    1990    4   ...           5   \n",
       "\n",
       "   timb_27  timb_28  timb_29  timb_30  timb_31  timb_32  timb_33  timb_34  \\\n",
       "0        8       12        5       53       35        2        3        2   \n",
       "1       19       33        7       48       22       13       23        6   \n",
       "2       10       23        8       26       37       11       14        7   \n",
       "3       19        8       35        7       15       30        4        9   \n",
       "4        7       22       16        2        7       37       12        3   \n",
       "\n",
       "   timb_35  \n",
       "0        0  \n",
       "1       22  \n",
       "2       63  \n",
       "3       27  \n",
       "4       16  \n",
       "\n",
       "[5 rows x 269 columns]"
      ]
     },
     "execution_count": 48,
     "metadata": {},
     "output_type": "execute_result"
    }
   ],
   "source": [
    "# Import csv dataset into jupyter notebook.\n",
    "# Call csv file music_df.\n",
    "music_df = pd.read_csv('EvolutionPopUSA_MainData.csv')\n",
    "\n",
    "# Test that we've successfully loaded dataframe.\n",
    "music_df.head()"
   ]
  },
  {
   "cell_type": "code",
   "execution_count": 4,
   "metadata": {
    "collapsed": false
   },
   "outputs": [
    {
     "data": {
      "text/html": [
       "<div>\n",
       "<style>\n",
       "    .dataframe thead tr:only-child th {\n",
       "        text-align: right;\n",
       "    }\n",
       "\n",
       "    .dataframe thead th {\n",
       "        text-align: left;\n",
       "    }\n",
       "\n",
       "    .dataframe tbody tr th {\n",
       "        vertical-align: top;\n",
       "    }\n",
       "</style>\n",
       "<table border=\"1\" class=\"dataframe\">\n",
       "  <thead>\n",
       "    <tr style=\"text-align: right;\">\n",
       "      <th></th>\n",
       "      <th>recording_id</th>\n",
       "      <th>year</th>\n",
       "      <th>fiveyear</th>\n",
       "      <th>decade</th>\n",
       "      <th>era</th>\n",
       "      <th>cluster</th>\n",
       "      <th>hTopic_01</th>\n",
       "      <th>hTopic_02</th>\n",
       "      <th>hTopic_03</th>\n",
       "      <th>hTopic_04</th>\n",
       "      <th>...</th>\n",
       "      <th>timb_26</th>\n",
       "      <th>timb_27</th>\n",
       "      <th>timb_28</th>\n",
       "      <th>timb_29</th>\n",
       "      <th>timb_30</th>\n",
       "      <th>timb_31</th>\n",
       "      <th>timb_32</th>\n",
       "      <th>timb_33</th>\n",
       "      <th>timb_34</th>\n",
       "      <th>timb_35</th>\n",
       "    </tr>\n",
       "  </thead>\n",
       "  <tbody>\n",
       "    <tr>\n",
       "      <th>count</th>\n",
       "      <td>17094.000000</td>\n",
       "      <td>17094.000000</td>\n",
       "      <td>17094.000000</td>\n",
       "      <td>17094.000000</td>\n",
       "      <td>17094.000000</td>\n",
       "      <td>17094.000000</td>\n",
       "      <td>17094.000000</td>\n",
       "      <td>17094.000000</td>\n",
       "      <td>17094.000000</td>\n",
       "      <td>17094.000000</td>\n",
       "      <td>...</td>\n",
       "      <td>17094.000000</td>\n",
       "      <td>17094.000000</td>\n",
       "      <td>17094.000000</td>\n",
       "      <td>17094.000000</td>\n",
       "      <td>17094.000000</td>\n",
       "      <td>17094.000000</td>\n",
       "      <td>17094.000000</td>\n",
       "      <td>17094.000000</td>\n",
       "      <td>17094.000000</td>\n",
       "      <td>17094.000000</td>\n",
       "    </tr>\n",
       "    <tr>\n",
       "      <th>mean</th>\n",
       "      <td>8547.500000</td>\n",
       "      <td>1981.265181</td>\n",
       "      <td>1979.278402</td>\n",
       "      <td>1976.766702</td>\n",
       "      <td>2.632561</td>\n",
       "      <td>7.322511</td>\n",
       "      <td>0.097140</td>\n",
       "      <td>0.152770</td>\n",
       "      <td>0.156575</td>\n",
       "      <td>0.107098</td>\n",
       "      <td>...</td>\n",
       "      <td>16.790277</td>\n",
       "      <td>16.707851</td>\n",
       "      <td>24.827483</td>\n",
       "      <td>10.599392</td>\n",
       "      <td>40.872002</td>\n",
       "      <td>32.116766</td>\n",
       "      <td>10.199544</td>\n",
       "      <td>30.690125</td>\n",
       "      <td>16.265707</td>\n",
       "      <td>9.692641</td>\n",
       "    </tr>\n",
       "    <tr>\n",
       "      <th>std</th>\n",
       "      <td>4934.757086</td>\n",
       "      <td>14.861432</td>\n",
       "      <td>14.770766</td>\n",
       "      <td>14.501195</td>\n",
       "      <td>1.017690</td>\n",
       "      <td>3.790798</td>\n",
       "      <td>0.136731</td>\n",
       "      <td>0.167657</td>\n",
       "      <td>0.180013</td>\n",
       "      <td>0.121609</td>\n",
       "      <td>...</td>\n",
       "      <td>22.554304</td>\n",
       "      <td>29.559922</td>\n",
       "      <td>25.023219</td>\n",
       "      <td>18.454009</td>\n",
       "      <td>60.948417</td>\n",
       "      <td>21.217112</td>\n",
       "      <td>13.820388</td>\n",
       "      <td>59.324304</td>\n",
       "      <td>20.351111</td>\n",
       "      <td>19.586098</td>\n",
       "    </tr>\n",
       "    <tr>\n",
       "      <th>min</th>\n",
       "      <td>1.000000</td>\n",
       "      <td>1960.000000</td>\n",
       "      <td>1960.000000</td>\n",
       "      <td>1960.000000</td>\n",
       "      <td>1.000000</td>\n",
       "      <td>1.000000</td>\n",
       "      <td>0.000207</td>\n",
       "      <td>0.000207</td>\n",
       "      <td>0.000207</td>\n",
       "      <td>0.000207</td>\n",
       "      <td>...</td>\n",
       "      <td>0.000000</td>\n",
       "      <td>0.000000</td>\n",
       "      <td>0.000000</td>\n",
       "      <td>0.000000</td>\n",
       "      <td>0.000000</td>\n",
       "      <td>0.000000</td>\n",
       "      <td>0.000000</td>\n",
       "      <td>0.000000</td>\n",
       "      <td>0.000000</td>\n",
       "      <td>0.000000</td>\n",
       "    </tr>\n",
       "    <tr>\n",
       "      <th>25%</th>\n",
       "      <td>4274.250000</td>\n",
       "      <td>1968.000000</td>\n",
       "      <td>1965.000000</td>\n",
       "      <td>1960.000000</td>\n",
       "      <td>2.000000</td>\n",
       "      <td>4.000000</td>\n",
       "      <td>0.000220</td>\n",
       "      <td>0.015140</td>\n",
       "      <td>0.012602</td>\n",
       "      <td>0.000234</td>\n",
       "      <td>...</td>\n",
       "      <td>2.000000</td>\n",
       "      <td>1.000000</td>\n",
       "      <td>8.000000</td>\n",
       "      <td>5.000000</td>\n",
       "      <td>3.000000</td>\n",
       "      <td>16.000000</td>\n",
       "      <td>2.000000</td>\n",
       "      <td>2.000000</td>\n",
       "      <td>3.000000</td>\n",
       "      <td>0.000000</td>\n",
       "    </tr>\n",
       "    <tr>\n",
       "      <th>50%</th>\n",
       "      <td>8547.500000</td>\n",
       "      <td>1979.000000</td>\n",
       "      <td>1975.000000</td>\n",
       "      <td>1970.000000</td>\n",
       "      <td>2.000000</td>\n",
       "      <td>8.000000</td>\n",
       "      <td>0.039830</td>\n",
       "      <td>0.095753</td>\n",
       "      <td>0.091951</td>\n",
       "      <td>0.065009</td>\n",
       "      <td>...</td>\n",
       "      <td>9.000000</td>\n",
       "      <td>6.000000</td>\n",
       "      <td>17.000000</td>\n",
       "      <td>5.000000</td>\n",
       "      <td>17.000000</td>\n",
       "      <td>28.000000</td>\n",
       "      <td>6.000000</td>\n",
       "      <td>9.000000</td>\n",
       "      <td>10.000000</td>\n",
       "      <td>2.000000</td>\n",
       "    </tr>\n",
       "    <tr>\n",
       "      <th>75%</th>\n",
       "      <td>12820.750000</td>\n",
       "      <td>1994.000000</td>\n",
       "      <td>1990.000000</td>\n",
       "      <td>1990.000000</td>\n",
       "      <td>4.000000</td>\n",
       "      <td>11.000000</td>\n",
       "      <td>0.142810</td>\n",
       "      <td>0.239772</td>\n",
       "      <td>0.239738</td>\n",
       "      <td>0.169363</td>\n",
       "      <td>...</td>\n",
       "      <td>22.000000</td>\n",
       "      <td>19.000000</td>\n",
       "      <td>34.000000</td>\n",
       "      <td>8.000000</td>\n",
       "      <td>53.000000</td>\n",
       "      <td>44.000000</td>\n",
       "      <td>12.000000</td>\n",
       "      <td>31.000000</td>\n",
       "      <td>21.000000</td>\n",
       "      <td>10.000000</td>\n",
       "    </tr>\n",
       "    <tr>\n",
       "      <th>max</th>\n",
       "      <td>17094.000000</td>\n",
       "      <td>2009.000000</td>\n",
       "      <td>2005.000000</td>\n",
       "      <td>2000.000000</td>\n",
       "      <td>4.000000</td>\n",
       "      <td>13.000000</td>\n",
       "      <td>0.980424</td>\n",
       "      <td>0.998511</td>\n",
       "      <td>0.981016</td>\n",
       "      <td>0.769407</td>\n",
       "      <td>...</td>\n",
       "      <td>380.000000</td>\n",
       "      <td>445.000000</td>\n",
       "      <td>299.000000</td>\n",
       "      <td>477.000000</td>\n",
       "      <td>711.000000</td>\n",
       "      <td>185.000000</td>\n",
       "      <td>222.000000</td>\n",
       "      <td>805.000000</td>\n",
       "      <td>308.000000</td>\n",
       "      <td>339.000000</td>\n",
       "    </tr>\n",
       "  </tbody>\n",
       "</table>\n",
       "<p>8 rows × 264 columns</p>\n",
       "</div>"
      ],
      "text/plain": [
       "       recording_id          year      fiveyear        decade           era  \\\n",
       "count  17094.000000  17094.000000  17094.000000  17094.000000  17094.000000   \n",
       "mean    8547.500000   1981.265181   1979.278402   1976.766702      2.632561   \n",
       "std     4934.757086     14.861432     14.770766     14.501195      1.017690   \n",
       "min        1.000000   1960.000000   1960.000000   1960.000000      1.000000   \n",
       "25%     4274.250000   1968.000000   1965.000000   1960.000000      2.000000   \n",
       "50%     8547.500000   1979.000000   1975.000000   1970.000000      2.000000   \n",
       "75%    12820.750000   1994.000000   1990.000000   1990.000000      4.000000   \n",
       "max    17094.000000   2009.000000   2005.000000   2000.000000      4.000000   \n",
       "\n",
       "            cluster     hTopic_01     hTopic_02     hTopic_03     hTopic_04  \\\n",
       "count  17094.000000  17094.000000  17094.000000  17094.000000  17094.000000   \n",
       "mean       7.322511      0.097140      0.152770      0.156575      0.107098   \n",
       "std        3.790798      0.136731      0.167657      0.180013      0.121609   \n",
       "min        1.000000      0.000207      0.000207      0.000207      0.000207   \n",
       "25%        4.000000      0.000220      0.015140      0.012602      0.000234   \n",
       "50%        8.000000      0.039830      0.095753      0.091951      0.065009   \n",
       "75%       11.000000      0.142810      0.239772      0.239738      0.169363   \n",
       "max       13.000000      0.980424      0.998511      0.981016      0.769407   \n",
       "\n",
       "           ...            timb_26       timb_27       timb_28       timb_29  \\\n",
       "count      ...       17094.000000  17094.000000  17094.000000  17094.000000   \n",
       "mean       ...          16.790277     16.707851     24.827483     10.599392   \n",
       "std        ...          22.554304     29.559922     25.023219     18.454009   \n",
       "min        ...           0.000000      0.000000      0.000000      0.000000   \n",
       "25%        ...           2.000000      1.000000      8.000000      5.000000   \n",
       "50%        ...           9.000000      6.000000     17.000000      5.000000   \n",
       "75%        ...          22.000000     19.000000     34.000000      8.000000   \n",
       "max        ...         380.000000    445.000000    299.000000    477.000000   \n",
       "\n",
       "            timb_30       timb_31       timb_32       timb_33       timb_34  \\\n",
       "count  17094.000000  17094.000000  17094.000000  17094.000000  17094.000000   \n",
       "mean      40.872002     32.116766     10.199544     30.690125     16.265707   \n",
       "std       60.948417     21.217112     13.820388     59.324304     20.351111   \n",
       "min        0.000000      0.000000      0.000000      0.000000      0.000000   \n",
       "25%        3.000000     16.000000      2.000000      2.000000      3.000000   \n",
       "50%       17.000000     28.000000      6.000000      9.000000     10.000000   \n",
       "75%       53.000000     44.000000     12.000000     31.000000     21.000000   \n",
       "max      711.000000    185.000000    222.000000    805.000000    308.000000   \n",
       "\n",
       "            timb_35  \n",
       "count  17094.000000  \n",
       "mean       9.692641  \n",
       "std       19.586098  \n",
       "min        0.000000  \n",
       "25%        0.000000  \n",
       "50%        2.000000  \n",
       "75%       10.000000  \n",
       "max      339.000000  \n",
       "\n",
       "[8 rows x 264 columns]"
      ]
     },
     "execution_count": 4,
     "metadata": {},
     "output_type": "execute_result"
    }
   ],
   "source": [
    "music_df.describe()"
   ]
  },
  {
   "cell_type": "code",
   "execution_count": 49,
   "metadata": {
    "collapsed": true
   },
   "outputs": [],
   "source": [
    "# To start, we'll \n",
    "# Define feature and target dataframes\n",
    "# To start, lets see if we can predict decade based on all harmonic and timbre classifiers.\n",
    "\n",
    "# Define our input dataframe of features\n",
    "decadeInput = music_df.drop(['recording_id', 'artist_name', 'artist_name_clean', \n",
    "                             'track_name', 'first_entry','quarter', 'year', \n",
    "                             'fiveyear', 'decade', 'era'], axis = 1)\n",
    "\n",
    "# Define our target labels\n",
    "decadeLabel = music_df[['decade']].copy()"
   ]
  },
  {
   "cell_type": "code",
   "execution_count": 54,
   "metadata": {
    "collapsed": true
   },
   "outputs": [],
   "source": [
    "# using train_test_split, create decadeInputTrain, decadeInputTest, decadeLabelTrain, and decadeLabelTest \n",
    "decadeInputTrain, decadeInputTest, decadeLabelTrain, decadeLabelTest = train_test_split(decadeInput, decadeLabel, stratify = decadeLabel)"
   ]
  },
  {
   "cell_type": "code",
   "execution_count": 55,
   "metadata": {
    "collapsed": false
   },
   "outputs": [
    {
     "name": "stdout",
     "output_type": "stream",
     "text": [
      "       cluster  hTopic_01  hTopic_02  hTopic_03  hTopic_04  hTopic_05  \\\n",
      "14741       10   0.000217   0.367788   0.287477   0.090879   0.012995   \n",
      "8772        11   0.102127   0.334457   0.005038   0.082393   0.014514   \n",
      "2417         3   0.134070   0.138789   0.501406   0.000216   0.035710   \n",
      "6511         2   0.057820   0.058130   0.223568   0.051892   0.473363   \n",
      "14129        9   0.068678   0.141597   0.136720   0.422064   0.000227   \n",
      "\n",
      "       hTopic_06  hTopic_07  hTopic_08  tTopic_01   ...     timb_26  timb_27  \\\n",
      "14741   0.000217   0.207962   0.032465   0.000444   ...           5        2   \n",
      "8772    0.066803   0.273000   0.121668   0.169106   ...           0       32   \n",
      "2417    0.000216   0.082599   0.106993   0.000417   ...           1        0   \n",
      "6511    0.008517   0.098741   0.027969   0.434715   ...          25       31   \n",
      "14129   0.141188   0.052465   0.037061   0.000597   ...           6        6   \n",
      "\n",
      "       timb_28  timb_29  timb_30  timb_31  timb_32  timb_33  timb_34  timb_35  \n",
      "14741       16        8        0        6       19      123        8        0  \n",
      "8772         7       36        9        3        2        0        0        0  \n",
      "2417         7        6        1        7       13       41       42        0  \n",
      "6511        20        6       16       15        7       26        6        2  \n",
      "14129        5        9       46       40        4        0       30        0  \n",
      "\n",
      "[5 rows x 259 columns]\n",
      "       decade\n",
      "14741    1970\n",
      "8772     1960\n",
      "2417     1990\n",
      "6511     1980\n",
      "14129    1970\n"
     ]
    }
   ],
   "source": [
    "# Test that the keys match for training dataframes\n",
    "print (decadeInputTrain.head())\n",
    "print (decadeLabelTrain.head())"
   ]
  },
  {
   "cell_type": "code",
   "execution_count": 56,
   "metadata": {
    "collapsed": false
   },
   "outputs": [
    {
     "name": "stdout",
     "output_type": "stream",
     "text": [
      "(12820, 259)\n",
      "(4274, 259)\n",
      "(12820, 1)\n",
      "(4274, 1)\n"
     ]
    }
   ],
   "source": [
    "# Test that shapes are correct\n",
    "print(decadeInputTrain.shape)\n",
    "print(decadeInputTest.shape)\n",
    "print(decadeLabelTrain.shape)\n",
    "print(decadeLabelTest.shape)"
   ]
  },
  {
   "cell_type": "code",
   "execution_count": 64,
   "metadata": {
    "collapsed": false
   },
   "outputs": [
    {
     "name": "stderr",
     "output_type": "stream",
     "text": [
      "/Users/bendbir/anaconda/lib/python3.5/site-packages/sklearn/utils/validation.py:547: DataConversionWarning: A column-vector y was passed when a 1d array was expected. Please change the shape of y to (n_samples, ), for example using ravel().\n",
      "  y = column_or_1d(y, warn=True)\n"
     ]
    }
   ],
   "source": [
    "# make your model! \n",
    "gnb = GaussianNB()\n",
    "gnb.fit(decadeInputTrain, decadeLabelTrain)\n",
    "decade_music_pred = gnb.predict(decadeInputTest)"
   ]
  },
  {
   "cell_type": "code",
   "execution_count": 65,
   "metadata": {
    "collapsed": false
   },
   "outputs": [
    {
     "name": "stdout",
     "output_type": "stream",
     "text": [
      "Gaussian Naive Bayes accuracy: 33.55\n"
     ]
    }
   ],
   "source": [
    "# How well did our model do?\n",
    "# find the accuracy score.\n",
    "print(\"Gaussian Naive Bayes accuracy:\", round((accuracy_score(decadeLabelTest, decade_music_pred)*100),2))"
   ]
  },
  {
   "cell_type": "code",
   "execution_count": 66,
   "metadata": {
    "collapsed": false
   },
   "outputs": [],
   "source": [
    "# Let's try pruning out just necessary information\n",
    "smaller_decadeInput = decadeInput[['cluster', 'hTopic_01', 'hTopic_02', 'hTopic_03', 'hTopic_04',\n",
    "                                   'hTopic_05', 'hTopic_06', 'hTopic_07',\n",
    "                                   'hTopic_08', 'tTopic_01', 'tTopic_02', 'tTopic_03', 'tTopic_04',\n",
    "                                   'tTopic_05', 'tTopic_06', 'tTopic_07', 'tTopic_08']].copy()"
   ]
  },
  {
   "cell_type": "code",
   "execution_count": 67,
   "metadata": {
    "collapsed": false
   },
   "outputs": [
    {
     "data": {
      "text/html": [
       "<div>\n",
       "<style>\n",
       "    .dataframe thead tr:only-child th {\n",
       "        text-align: right;\n",
       "    }\n",
       "\n",
       "    .dataframe thead th {\n",
       "        text-align: left;\n",
       "    }\n",
       "\n",
       "    .dataframe tbody tr th {\n",
       "        vertical-align: top;\n",
       "    }\n",
       "</style>\n",
       "<table border=\"1\" class=\"dataframe\">\n",
       "  <thead>\n",
       "    <tr style=\"text-align: right;\">\n",
       "      <th></th>\n",
       "      <th>cluster</th>\n",
       "      <th>hTopic_01</th>\n",
       "      <th>hTopic_02</th>\n",
       "      <th>hTopic_03</th>\n",
       "      <th>hTopic_04</th>\n",
       "      <th>hTopic_05</th>\n",
       "      <th>hTopic_06</th>\n",
       "      <th>hTopic_07</th>\n",
       "      <th>hTopic_08</th>\n",
       "      <th>tTopic_01</th>\n",
       "      <th>tTopic_02</th>\n",
       "      <th>tTopic_03</th>\n",
       "      <th>tTopic_04</th>\n",
       "      <th>tTopic_05</th>\n",
       "      <th>tTopic_06</th>\n",
       "      <th>tTopic_07</th>\n",
       "      <th>tTopic_08</th>\n",
       "    </tr>\n",
       "  </thead>\n",
       "  <tbody>\n",
       "    <tr>\n",
       "      <th>0</th>\n",
       "      <td>12</td>\n",
       "      <td>0.055174</td>\n",
       "      <td>0.078318</td>\n",
       "      <td>0.553018</td>\n",
       "      <td>0.000223</td>\n",
       "      <td>0.000212</td>\n",
       "      <td>0.047303</td>\n",
       "      <td>0.044518</td>\n",
       "      <td>0.221235</td>\n",
       "      <td>0.444447</td>\n",
       "      <td>0.005474</td>\n",
       "      <td>0.000650</td>\n",
       "      <td>0.134949</td>\n",
       "      <td>0.381252</td>\n",
       "      <td>0.000678</td>\n",
       "      <td>0.031913</td>\n",
       "      <td>0.000636</td>\n",
       "    </tr>\n",
       "    <tr>\n",
       "      <th>1</th>\n",
       "      <td>12</td>\n",
       "      <td>0.027827</td>\n",
       "      <td>0.033408</td>\n",
       "      <td>0.587047</td>\n",
       "      <td>0.000210</td>\n",
       "      <td>0.056217</td>\n",
       "      <td>0.000212</td>\n",
       "      <td>0.169910</td>\n",
       "      <td>0.125169</td>\n",
       "      <td>0.308091</td>\n",
       "      <td>0.070154</td>\n",
       "      <td>0.255784</td>\n",
       "      <td>0.000456</td>\n",
       "      <td>0.217727</td>\n",
       "      <td>0.000423</td>\n",
       "      <td>0.000403</td>\n",
       "      <td>0.146964</td>\n",
       "    </tr>\n",
       "    <tr>\n",
       "      <th>2</th>\n",
       "      <td>12</td>\n",
       "      <td>0.028861</td>\n",
       "      <td>0.248975</td>\n",
       "      <td>0.549706</td>\n",
       "      <td>0.033614</td>\n",
       "      <td>0.079899</td>\n",
       "      <td>0.000219</td>\n",
       "      <td>0.058511</td>\n",
       "      <td>0.000216</td>\n",
       "      <td>0.368978</td>\n",
       "      <td>0.058471</td>\n",
       "      <td>0.248061</td>\n",
       "      <td>0.011694</td>\n",
       "      <td>0.087592</td>\n",
       "      <td>0.062672</td>\n",
       "      <td>0.000477</td>\n",
       "      <td>0.162054</td>\n",
       "    </tr>\n",
       "    <tr>\n",
       "      <th>3</th>\n",
       "      <td>11</td>\n",
       "      <td>0.008139</td>\n",
       "      <td>0.324315</td>\n",
       "      <td>0.195825</td>\n",
       "      <td>0.053928</td>\n",
       "      <td>0.093734</td>\n",
       "      <td>0.054064</td>\n",
       "      <td>0.269774</td>\n",
       "      <td>0.000222</td>\n",
       "      <td>0.343546</td>\n",
       "      <td>0.005986</td>\n",
       "      <td>0.421979</td>\n",
       "      <td>0.000425</td>\n",
       "      <td>0.098890</td>\n",
       "      <td>0.000400</td>\n",
       "      <td>0.000397</td>\n",
       "      <td>0.128377</td>\n",
       "    </tr>\n",
       "    <tr>\n",
       "      <th>4</th>\n",
       "      <td>12</td>\n",
       "      <td>0.037964</td>\n",
       "      <td>0.271282</td>\n",
       "      <td>0.427980</td>\n",
       "      <td>0.070706</td>\n",
       "      <td>0.084595</td>\n",
       "      <td>0.000232</td>\n",
       "      <td>0.049696</td>\n",
       "      <td>0.057546</td>\n",
       "      <td>0.263076</td>\n",
       "      <td>0.164987</td>\n",
       "      <td>0.495515</td>\n",
       "      <td>0.000461</td>\n",
       "      <td>0.004360</td>\n",
       "      <td>0.000448</td>\n",
       "      <td>0.000429</td>\n",
       "      <td>0.070725</td>\n",
       "    </tr>\n",
       "  </tbody>\n",
       "</table>\n",
       "</div>"
      ],
      "text/plain": [
       "   cluster  hTopic_01  hTopic_02  hTopic_03  hTopic_04  hTopic_05  hTopic_06  \\\n",
       "0       12   0.055174   0.078318   0.553018   0.000223   0.000212   0.047303   \n",
       "1       12   0.027827   0.033408   0.587047   0.000210   0.056217   0.000212   \n",
       "2       12   0.028861   0.248975   0.549706   0.033614   0.079899   0.000219   \n",
       "3       11   0.008139   0.324315   0.195825   0.053928   0.093734   0.054064   \n",
       "4       12   0.037964   0.271282   0.427980   0.070706   0.084595   0.000232   \n",
       "\n",
       "   hTopic_07  hTopic_08  tTopic_01  tTopic_02  tTopic_03  tTopic_04  \\\n",
       "0   0.044518   0.221235   0.444447   0.005474   0.000650   0.134949   \n",
       "1   0.169910   0.125169   0.308091   0.070154   0.255784   0.000456   \n",
       "2   0.058511   0.000216   0.368978   0.058471   0.248061   0.011694   \n",
       "3   0.269774   0.000222   0.343546   0.005986   0.421979   0.000425   \n",
       "4   0.049696   0.057546   0.263076   0.164987   0.495515   0.000461   \n",
       "\n",
       "   tTopic_05  tTopic_06  tTopic_07  tTopic_08  \n",
       "0   0.381252   0.000678   0.031913   0.000636  \n",
       "1   0.217727   0.000423   0.000403   0.146964  \n",
       "2   0.087592   0.062672   0.000477   0.162054  \n",
       "3   0.098890   0.000400   0.000397   0.128377  \n",
       "4   0.004360   0.000448   0.000429   0.070725  "
      ]
     },
     "execution_count": 67,
     "metadata": {},
     "output_type": "execute_result"
    }
   ],
   "source": [
    "smaller_decadeInput.head()"
   ]
  },
  {
   "cell_type": "code",
   "execution_count": 68,
   "metadata": {
    "collapsed": true
   },
   "outputs": [],
   "source": [
    "# using train_test_split, create decadeInputTrain, decadeInputTest, decadeLabelTrain, and decadeLabelTest \n",
    "decadeInputTrain, decadeInputTest, decadeLabelTrain, decadeLabelTest = train_test_split(smaller_decadeInput, decadeLabel, stratify = decadeLabel)"
   ]
  },
  {
   "cell_type": "code",
   "execution_count": 69,
   "metadata": {
    "collapsed": false
   },
   "outputs": [
    {
     "name": "stderr",
     "output_type": "stream",
     "text": [
      "/Users/bendbir/anaconda/lib/python3.5/site-packages/sklearn/utils/validation.py:547: DataConversionWarning: A column-vector y was passed when a 1d array was expected. Please change the shape of y to (n_samples, ), for example using ravel().\n",
      "  y = column_or_1d(y, warn=True)\n"
     ]
    }
   ],
   "source": [
    "# test model with smaller feature dataframe\n",
    "gnb = GaussianNB()\n",
    "gnb.fit(decadeInputTrain, decadeLabelTrain)\n",
    "decade_music_pred = gnb.predict(decadeInputTest)"
   ]
  },
  {
   "cell_type": "code",
   "execution_count": 70,
   "metadata": {
    "collapsed": false
   },
   "outputs": [
    {
     "name": "stdout",
     "output_type": "stream",
     "text": [
      "Gaussian Naive Bayes accuracy: 40.48\n"
     ]
    }
   ],
   "source": [
    "print(\"Gaussian Naive Bayes accuracy:\", round((accuracy_score(decadeLabelTest, decade_music_pred)*100),2))"
   ]
  },
  {
   "cell_type": "code",
   "execution_count": 18,
   "metadata": {
    "collapsed": false
   },
   "outputs": [
    {
     "data": {
      "text/html": [
       "<div>\n",
       "<style>\n",
       "    .dataframe thead tr:only-child th {\n",
       "        text-align: right;\n",
       "    }\n",
       "\n",
       "    .dataframe thead th {\n",
       "        text-align: left;\n",
       "    }\n",
       "\n",
       "    .dataframe tbody tr th {\n",
       "        vertical-align: top;\n",
       "    }\n",
       "</style>\n",
       "<table border=\"1\" class=\"dataframe\">\n",
       "  <thead>\n",
       "    <tr style=\"text-align: right;\">\n",
       "      <th></th>\n",
       "      <th>hTopic_01</th>\n",
       "      <th>hTopic_02</th>\n",
       "      <th>hTopic_03</th>\n",
       "      <th>hTopic_04</th>\n",
       "      <th>hTopic_05</th>\n",
       "      <th>hTopic_06</th>\n",
       "      <th>hTopic_07</th>\n",
       "      <th>hTopic_08</th>\n",
       "    </tr>\n",
       "  </thead>\n",
       "  <tbody>\n",
       "    <tr>\n",
       "      <th>0</th>\n",
       "      <td>0.055174</td>\n",
       "      <td>0.078318</td>\n",
       "      <td>0.553018</td>\n",
       "      <td>0.000223</td>\n",
       "      <td>0.000212</td>\n",
       "      <td>0.047303</td>\n",
       "      <td>0.044518</td>\n",
       "      <td>0.221235</td>\n",
       "    </tr>\n",
       "    <tr>\n",
       "      <th>1</th>\n",
       "      <td>0.027827</td>\n",
       "      <td>0.033408</td>\n",
       "      <td>0.587047</td>\n",
       "      <td>0.000210</td>\n",
       "      <td>0.056217</td>\n",
       "      <td>0.000212</td>\n",
       "      <td>0.169910</td>\n",
       "      <td>0.125169</td>\n",
       "    </tr>\n",
       "    <tr>\n",
       "      <th>2</th>\n",
       "      <td>0.028861</td>\n",
       "      <td>0.248975</td>\n",
       "      <td>0.549706</td>\n",
       "      <td>0.033614</td>\n",
       "      <td>0.079899</td>\n",
       "      <td>0.000219</td>\n",
       "      <td>0.058511</td>\n",
       "      <td>0.000216</td>\n",
       "    </tr>\n",
       "    <tr>\n",
       "      <th>3</th>\n",
       "      <td>0.008139</td>\n",
       "      <td>0.324315</td>\n",
       "      <td>0.195825</td>\n",
       "      <td>0.053928</td>\n",
       "      <td>0.093734</td>\n",
       "      <td>0.054064</td>\n",
       "      <td>0.269774</td>\n",
       "      <td>0.000222</td>\n",
       "    </tr>\n",
       "    <tr>\n",
       "      <th>4</th>\n",
       "      <td>0.037964</td>\n",
       "      <td>0.271282</td>\n",
       "      <td>0.427980</td>\n",
       "      <td>0.070706</td>\n",
       "      <td>0.084595</td>\n",
       "      <td>0.000232</td>\n",
       "      <td>0.049696</td>\n",
       "      <td>0.057546</td>\n",
       "    </tr>\n",
       "  </tbody>\n",
       "</table>\n",
       "</div>"
      ],
      "text/plain": [
       "   hTopic_01  hTopic_02  hTopic_03  hTopic_04  hTopic_05  hTopic_06  \\\n",
       "0   0.055174   0.078318   0.553018   0.000223   0.000212   0.047303   \n",
       "1   0.027827   0.033408   0.587047   0.000210   0.056217   0.000212   \n",
       "2   0.028861   0.248975   0.549706   0.033614   0.079899   0.000219   \n",
       "3   0.008139   0.324315   0.195825   0.053928   0.093734   0.054064   \n",
       "4   0.037964   0.271282   0.427980   0.070706   0.084595   0.000232   \n",
       "\n",
       "   hTopic_07  hTopic_08  \n",
       "0   0.044518   0.221235  \n",
       "1   0.169910   0.125169  \n",
       "2   0.058511   0.000216  \n",
       "3   0.269774   0.000222  \n",
       "4   0.049696   0.057546  "
      ]
     },
     "execution_count": 18,
     "metadata": {},
     "output_type": "execute_result"
    }
   ],
   "source": [
    "# Maybe we have to many features.\n",
    "# Try just with hTopics...\n",
    "hTopic_decadeInput = decadeInput[['hTopic_01', 'hTopic_02', 'hTopic_03', \n",
    "                                  'hTopic_04', 'hTopic_05', 'hTopic_06', \n",
    "                                  'hTopic_07', 'hTopic_08']].copy()\n",
    "hTopic_decadeInput.head()"
   ]
  },
  {
   "cell_type": "code",
   "execution_count": 71,
   "metadata": {
    "collapsed": false
   },
   "outputs": [
    {
     "name": "stdout",
     "output_type": "stream",
     "text": [
      "Gaussian Naive Bayes accuracy: 35.38\n"
     ]
    },
    {
     "name": "stderr",
     "output_type": "stream",
     "text": [
      "/Users/bendbir/anaconda/lib/python3.5/site-packages/sklearn/utils/validation.py:547: DataConversionWarning: A column-vector y was passed when a 1d array was expected. Please change the shape of y to (n_samples, ), for example using ravel().\n",
      "  y = column_or_1d(y, warn=True)\n"
     ]
    }
   ],
   "source": [
    "# using train_test_split, create decadeInputTrain, decadeInputTest, decadeLabelTrain, and decadeLabelTest \n",
    "decadeInputTrain, decadeInputTest, decadeLabelTrain, decadeLabelTest = train_test_split(hTopic_decadeInput, decadeLabel, stratify = decadeLabel)\n",
    "\n",
    "# test model with smaller feature dataframe\n",
    "gnb = GaussianNB()\n",
    "gnb.fit(decadeInputTrain, decadeLabelTrain)\n",
    "decade_music_pred = gnb.predict(decadeInputTest)\n",
    "\n",
    "print(\"Gaussian Naive Bayes accuracy:\", round((accuracy_score(decadeLabelTest, decade_music_pred)*100),2))"
   ]
  },
  {
   "cell_type": "code",
   "execution_count": 72,
   "metadata": {
    "collapsed": false
   },
   "outputs": [
    {
     "name": "stdout",
     "output_type": "stream",
     "text": [
      "Gaussian Naive Bayes accuracy: 37.86\n"
     ]
    },
    {
     "name": "stderr",
     "output_type": "stream",
     "text": [
      "/Users/bendbir/anaconda/lib/python3.5/site-packages/sklearn/utils/validation.py:547: DataConversionWarning: A column-vector y was passed when a 1d array was expected. Please change the shape of y to (n_samples, ), for example using ravel().\n",
      "  y = column_or_1d(y, warn=True)\n"
     ]
    }
   ],
   "source": [
    "# Try just with tTopics...\n",
    "tTopic_decadeInput = decadeInput[['tTopic_01', 'tTopic_02', 'tTopic_03', \n",
    "                                  'tTopic_04','tTopic_05', 'tTopic_06', \n",
    "                                  'tTopic_07', 'tTopic_08']].copy()\n",
    "\n",
    "# using train_test_split, create decadeInputTrain, decadeInputTest, decadeLabelTrain, and decadeLabelTest \n",
    "decadeInputTrain, decadeInputTest, decadeLabelTrain, decadeLabelTest = train_test_split(tTopic_decadeInput, decadeLabel, stratify = decadeLabel)\n",
    "\n",
    "# test model with smaller feature dataframe\n",
    "gnb = GaussianNB()\n",
    "gnb.fit(decadeInputTrain, decadeLabelTrain)\n",
    "decade_music_pred = gnb.predict(decadeInputTest)\n",
    "\n",
    "print(\"Gaussian Naive Bayes accuracy:\", round((accuracy_score(decadeLabelTest, decade_music_pred)*100),2))"
   ]
  },
  {
   "cell_type": "code",
   "execution_count": 73,
   "metadata": {
    "collapsed": false
   },
   "outputs": [
    {
     "name": "stdout",
     "output_type": "stream",
     "text": [
      "Gaussian Naive Bayes accuracy: 40.8\n"
     ]
    },
    {
     "name": "stderr",
     "output_type": "stream",
     "text": [
      "/Users/bendbir/anaconda/lib/python3.5/site-packages/sklearn/utils/validation.py:547: DataConversionWarning: A column-vector y was passed when a 1d array was expected. Please change the shape of y to (n_samples, ), for example using ravel().\n",
      "  y = column_or_1d(y, warn=True)\n"
     ]
    }
   ],
   "source": [
    "# Let's try removing unnecessary columns.\n",
    "# Looking at graphs of data from the paper, H2 H4 and H7 appear to be fairly consistant.\n",
    "# Let's see if removing cluster, H2 H4 and H7 improves accuracy.\n",
    "smaller_decadeInput = decadeInput[['hTopic_01', 'hTopic_03', 'hTopic_05', 'hTopic_06',\n",
    "                                   'hTopic_08', 'tTopic_01', 'tTopic_02', 'tTopic_03',\n",
    "                                   'tTopic_04', 'tTopic_05', 'tTopic_06', 'tTopic_07',\n",
    "                                   'tTopic_08']].copy()\n",
    "\n",
    "# using train_test_split, create decadeInputTrain, decadeInputTest, decadeLabelTrain, and decadeLabelTest \n",
    "decadeInputTrain, decadeInputTest, decadeLabelTrain, decadeLabelTest = train_test_split(smaller_decadeInput, decadeLabel, stratify = decadeLabel)\n",
    "\n",
    "# test model with smaller feature dataframe\n",
    "gnb = GaussianNB()\n",
    "gnb.fit(decadeInputTrain, decadeLabelTrain)\n",
    "decade_music_pred = gnb.predict(decadeInputTest)\n",
    "\n",
    "# What's our accuracy?\n",
    "print(\"Gaussian Naive Bayes accuracy:\", round((accuracy_score(decadeLabelTest, decade_music_pred)*100),2))"
   ]
  },
  {
   "cell_type": "code",
   "execution_count": 74,
   "metadata": {
    "collapsed": false
   },
   "outputs": [
    {
     "name": "stdout",
     "output_type": "stream",
     "text": [
      "Gaussian Naive Bayes accuracy: 40.92\n"
     ]
    },
    {
     "name": "stderr",
     "output_type": "stream",
     "text": [
      "/Users/bendbir/anaconda/lib/python3.5/site-packages/sklearn/utils/validation.py:547: DataConversionWarning: A column-vector y was passed when a 1d array was expected. Please change the shape of y to (n_samples, ), for example using ravel().\n",
      "  y = column_or_1d(y, warn=True)\n"
     ]
    }
   ],
   "source": [
    "# Hmmmmmm, barely better than H1-8 and T1-8 without any omissions.\n",
    "# In addition to H2, H4 and H7, let's try taking some of the other noisy topics\n",
    "# that don't have clear trends.  H8, T6, T7 and T8.\n",
    "# That leaves us with: H1, H3, H5, H6, T1, T2, T3, T4, T5.\n",
    "smaller_decadeInput = music_df[['hTopic_01', 'hTopic_03', 'hTopic_05', 'hTopic_06',\n",
    "                                'tTopic_01', 'tTopic_02', 'tTopic_03',\n",
    "                                'tTopic_04', 'tTopic_05']].copy()\n",
    "\n",
    "# using train_test_split, create decadeInputTrain, decadeInputTest, decadeLabelTrain, and decadeLabelTest \n",
    "decadeInputTrain, decadeInputTest, decadeLabelTrain, decadeLabelTest = train_test_split(smaller_decadeInput, decadeLabel, stratify = decadeLabel)\n",
    "\n",
    "# test model with smaller feature dataframe\n",
    "gnb = GaussianNB()\n",
    "gnb.fit(decadeInputTrain, decadeLabelTrain)\n",
    "decade_music_pred = gnb.predict(decadeInputTest)\n",
    "\n",
    "# What's our accuracy?\n",
    "print(\"Gaussian Naive Bayes accuracy:\", round((accuracy_score(decadeLabelTest, decade_music_pred)*100),2))"
   ]
  },
  {
   "cell_type": "code",
   "execution_count": 24,
   "metadata": {
    "collapsed": true
   },
   "outputs": [],
   "source": [
    "# Still not much better!  Time for a different approach..."
   ]
  },
  {
   "cell_type": "code",
   "execution_count": 90,
   "metadata": {
    "collapsed": false
   },
   "outputs": [
    {
     "data": {
      "text/html": [
       "<div>\n",
       "<style>\n",
       "    .dataframe thead tr:only-child th {\n",
       "        text-align: right;\n",
       "    }\n",
       "\n",
       "    .dataframe thead th {\n",
       "        text-align: left;\n",
       "    }\n",
       "\n",
       "    .dataframe tbody tr th {\n",
       "        vertical-align: top;\n",
       "    }\n",
       "</style>\n",
       "<table border=\"1\" class=\"dataframe\">\n",
       "  <thead>\n",
       "    <tr style=\"text-align: right;\">\n",
       "      <th></th>\n",
       "      <th>decade</th>\n",
       "    </tr>\n",
       "  </thead>\n",
       "  <tbody>\n",
       "    <tr>\n",
       "      <th>0</th>\n",
       "      <td>True</td>\n",
       "    </tr>\n",
       "    <tr>\n",
       "      <th>1</th>\n",
       "      <td>True</td>\n",
       "    </tr>\n",
       "    <tr>\n",
       "      <th>2</th>\n",
       "      <td>True</td>\n",
       "    </tr>\n",
       "    <tr>\n",
       "      <th>3</th>\n",
       "      <td>True</td>\n",
       "    </tr>\n",
       "    <tr>\n",
       "      <th>4</th>\n",
       "      <td>True</td>\n",
       "    </tr>\n",
       "  </tbody>\n",
       "</table>\n",
       "</div>"
      ],
      "text/plain": [
       "   decade\n",
       "0    True\n",
       "1    True\n",
       "2    True\n",
       "3    True\n",
       "4    True"
      ]
     },
     "execution_count": 90,
     "metadata": {},
     "output_type": "execute_result"
    }
   ],
   "source": [
    "# Maybe our labels are too broad, 4 classifications might be too much\n",
    "# for this dataset.\n",
    "#\n",
    "# Let's generalize into two classifications for our labels:\n",
    "# Songs before 1980 (False) and songs after 1980 (True)\n",
    "\n",
    "decadeLabel_mask = (decadeLabel > 1980.00)\n",
    "# If we change to decadeLabel > 1970.00, accuracy decreases to level of 1960.00 classifier alone, ~65%.\n",
    "\n",
    "decadeLabel_mask.head()"
   ]
  },
  {
   "cell_type": "code",
   "execution_count": 91,
   "metadata": {
    "collapsed": false
   },
   "outputs": [
    {
     "name": "stdout",
     "output_type": "stream",
     "text": [
      "Gaussian Naive Bayes accuracy: 66.45\n"
     ]
    },
    {
     "name": "stderr",
     "output_type": "stream",
     "text": [
      "/Users/bendbir/anaconda/lib/python3.5/site-packages/sklearn/utils/validation.py:547: DataConversionWarning: A column-vector y was passed when a 1d array was expected. Please change the shape of y to (n_samples, ), for example using ravel().\n",
      "  y = column_or_1d(y, warn=True)\n"
     ]
    }
   ],
   "source": [
    "# smaller_decadeInput already defined\n",
    "# with just H1, H3, H5, H6, T1, T2, T3, T4, T5.\n",
    "\n",
    "# using train_test_split, create decadeInputTrain, decadeInputTest, decadeLabelTrain, and decadeLabelTest \n",
    "decadeInputTrain, decadeInputTest, decadeLabelTrain, decadeLabelTest = train_test_split(smaller_decadeInput, decadeLabel_mask, stratify = decadeLabel_mask)\n",
    "\n",
    "# test model with smaller feature dataframe\n",
    "gnb = GaussianNB()\n",
    "gnb.fit(decadeInputTrain, decadeLabelTrain)\n",
    "decade_music_pred = gnb.predict(decadeInputTest)\n",
    "\n",
    "# What's our accuracy?\n",
    "print(\"Gaussian Naive Bayes accuracy:\", round((accuracy_score(decadeLabelTest, decade_music_pred)*100),2))"
   ]
  },
  {
   "cell_type": "code",
   "execution_count": 77,
   "metadata": {
    "collapsed": false
   },
   "outputs": [],
   "source": [
    "# That was our best model yet!  Let's take a look at the confusion matrix.\n",
    "# Import confusion matrix\n",
    "from sklearn.metrics import classification_report\n",
    "from sklearn.metrics import confusion_matrix"
   ]
  },
  {
   "cell_type": "code",
   "execution_count": 78,
   "metadata": {
    "collapsed": false
   },
   "outputs": [
    {
     "name": "stdout",
     "output_type": "stream",
     "text": [
      "THIS IS THE CONFUSION MATRIX:\n",
      "[[2679  256]\n",
      " [ 856  483]]\n",
      "THIS IS THE CLASSIFICATION REPORT:\n",
      "             precision    recall  f1-score   support\n",
      "\n",
      "      False       0.76      0.91      0.83      2935\n",
      "       True       0.65      0.36      0.46      1339\n",
      "\n",
      "avg / total       0.73      0.74      0.71      4274\n",
      "\n"
     ]
    }
   ],
   "source": [
    "# Generate the confusion matrix and classification report\n",
    "print (\"THIS IS THE CONFUSION MATRIX:\")\n",
    "print(confusion_matrix(decadeLabelTest, decade_music_pred))\n",
    "print (\"THIS IS THE CLASSIFICATION REPORT:\")\n",
    "print(classification_report(decadeLabelTest, decade_music_pred))"
   ]
  },
  {
   "cell_type": "code",
   "execution_count": 79,
   "metadata": {
    "collapsed": false
   },
   "outputs": [
    {
     "name": "stdout",
     "output_type": "stream",
     "text": [
      "1960 accuracy: 63.27 %\n",
      "1970 accuracy: 64.86 %\n",
      "1980 accuracy: 76.72 %\n",
      "1990 accuracy: 85.47 %\n",
      "2000 accuracy: 81.94 %\n"
     ]
    },
    {
     "name": "stderr",
     "output_type": "stream",
     "text": [
      "/Users/bendbir/anaconda/lib/python3.5/site-packages/sklearn/utils/validation.py:547: DataConversionWarning: A column-vector y was passed when a 1d array was expected. Please change the shape of y to (n_samples, ), for example using ravel().\n",
      "  y = column_or_1d(y, warn=True)\n"
     ]
    }
   ],
   "source": [
    "# Limiting our targets helps our classifier perform better.\n",
    "# What if we narrow it down even more, to just one decade?\n",
    "decadeLabel_mask_1960 = (decadeLabel == 1960.00)\n",
    "decadeLabel_mask_1970 = (decadeLabel == 1970.00)\n",
    "decadeLabel_mask_1980 = (decadeLabel == 1980.00)\n",
    "decadeLabel_mask_1990 = (decadeLabel == 1990.00)\n",
    "decadeLabel_mask_2000 = (decadeLabel == 2000.00)\n",
    "\n",
    "# smaller_decadeInput already defined\n",
    "\n",
    "# using train_test_split, create decadeInputTrain, decadeInputTest, decadeLabelTrain, and decadeLabelTest \n",
    "decadeInputTrain1, decadeInputTest1, decadeLabelTrain1, decadeLabelTest1 = train_test_split(smaller_decadeInput, decadeLabel_mask_1960, stratify = decadeLabel_mask_1960)\n",
    "decadeInputTrain2, decadeInputTest2, decadeLabelTrain2, decadeLabelTest2 = train_test_split(smaller_decadeInput, decadeLabel_mask_1970, stratify = decadeLabel_mask_1970)\n",
    "decadeInputTrain3, decadeInputTest3, decadeLabelTrain3, decadeLabelTest3 = train_test_split(smaller_decadeInput, decadeLabel_mask_1980, stratify = decadeLabel_mask_1980)\n",
    "decadeInputTrain4, decadeInputTest4, decadeLabelTrain4, decadeLabelTest4 = train_test_split(smaller_decadeInput, decadeLabel_mask_1990, stratify = decadeLabel_mask_1990)\n",
    "decadeInputTrain5, decadeInputTest5, decadeLabelTrain5, decadeLabelTest5 = train_test_split(smaller_decadeInput, decadeLabel_mask_2000, stratify = decadeLabel_mask_2000)\n",
    "\n",
    "# test each model with smaller feature dataframe\n",
    "gnb1 = GaussianNB()\n",
    "gnb1.fit(decadeInputTrain1, decadeLabelTrain1)\n",
    "decade_music_pred1 = gnb1.predict(decadeInputTest1)\n",
    "\n",
    "gnb2 = GaussianNB()\n",
    "gnb2.fit(decadeInputTrain2, decadeLabelTrain2)\n",
    "decade_music_pred2 = gnb2.predict(decadeInputTest2)\n",
    "\n",
    "gnb3 = GaussianNB()\n",
    "gnb3.fit(decadeInputTrain3, decadeLabelTrain3)\n",
    "decade_music_pred3 = gnb3.predict(decadeInputTest3)\n",
    "\n",
    "gnb4 = GaussianNB()\n",
    "gnb4.fit(decadeInputTrain1, decadeLabelTrain4)\n",
    "decade_music_pred4 = gnb4.predict(decadeInputTest4)\n",
    "\n",
    "gnb5 = GaussianNB()\n",
    "gnb5.fit(decadeInputTrain5, decadeLabelTrain5)\n",
    "decade_music_pred5 = gnb5.predict(decadeInputTest5)\n",
    "\n",
    "# What's our accuracy?\n",
    "print(\"1960 accuracy:\", round((accuracy_score(decadeLabelTest1, decade_music_pred1)*100),2), \"%\")\n",
    "print(\"1970 accuracy:\", round((accuracy_score(decadeLabelTest2, decade_music_pred2)*100),2), \"%\")\n",
    "print(\"1980 accuracy:\", round((accuracy_score(decadeLabelTest3, decade_music_pred3)*100),2), \"%\")\n",
    "print(\"1990 accuracy:\", round((accuracy_score(decadeLabelTest4, decade_music_pred4)*100),2), \"%\")\n",
    "print(\"2000 accuracy:\", round((accuracy_score(decadeLabelTest5, decade_music_pred5)*100),2), \"%\")"
   ]
  },
  {
   "cell_type": "code",
   "execution_count": 31,
   "metadata": {
    "collapsed": true
   },
   "outputs": [],
   "source": [
    "# It appears songs released in 1990 are the easiest for our classifier to predict.\n",
    "# Let's compare the deviation of our features from 1960 and 1990."
   ]
  },
  {
   "cell_type": "code",
   "execution_count": 80,
   "metadata": {
    "collapsed": false
   },
   "outputs": [
    {
     "data": {
      "text/html": [
       "<div>\n",
       "<style>\n",
       "    .dataframe thead tr:only-child th {\n",
       "        text-align: right;\n",
       "    }\n",
       "\n",
       "    .dataframe thead th {\n",
       "        text-align: left;\n",
       "    }\n",
       "\n",
       "    .dataframe tbody tr th {\n",
       "        vertical-align: top;\n",
       "    }\n",
       "</style>\n",
       "<table border=\"1\" class=\"dataframe\">\n",
       "  <thead>\n",
       "    <tr style=\"text-align: right;\">\n",
       "      <th></th>\n",
       "      <th>hTopic_01</th>\n",
       "      <th>hTopic_03</th>\n",
       "      <th>hTopic_05</th>\n",
       "      <th>hTopic_06</th>\n",
       "      <th>tTopic_01</th>\n",
       "      <th>tTopic_02</th>\n",
       "      <th>tTopic_03</th>\n",
       "      <th>tTopic_04</th>\n",
       "      <th>tTopic_05</th>\n",
       "      <th>decade</th>\n",
       "    </tr>\n",
       "  </thead>\n",
       "  <tbody>\n",
       "    <tr>\n",
       "      <th>0</th>\n",
       "      <td>0.055174</td>\n",
       "      <td>0.553018</td>\n",
       "      <td>0.000212</td>\n",
       "      <td>0.047303</td>\n",
       "      <td>0.444447</td>\n",
       "      <td>0.005474</td>\n",
       "      <td>0.000650</td>\n",
       "      <td>0.134949</td>\n",
       "      <td>0.381252</td>\n",
       "      <td>1980</td>\n",
       "    </tr>\n",
       "    <tr>\n",
       "      <th>1</th>\n",
       "      <td>0.027827</td>\n",
       "      <td>0.587047</td>\n",
       "      <td>0.056217</td>\n",
       "      <td>0.000212</td>\n",
       "      <td>0.308091</td>\n",
       "      <td>0.070154</td>\n",
       "      <td>0.255784</td>\n",
       "      <td>0.000456</td>\n",
       "      <td>0.217727</td>\n",
       "      <td>2000</td>\n",
       "    </tr>\n",
       "    <tr>\n",
       "      <th>2</th>\n",
       "      <td>0.028861</td>\n",
       "      <td>0.549706</td>\n",
       "      <td>0.079899</td>\n",
       "      <td>0.000219</td>\n",
       "      <td>0.368978</td>\n",
       "      <td>0.058471</td>\n",
       "      <td>0.248061</td>\n",
       "      <td>0.011694</td>\n",
       "      <td>0.087592</td>\n",
       "      <td>1980</td>\n",
       "    </tr>\n",
       "    <tr>\n",
       "      <th>3</th>\n",
       "      <td>0.008139</td>\n",
       "      <td>0.195825</td>\n",
       "      <td>0.093734</td>\n",
       "      <td>0.054064</td>\n",
       "      <td>0.343546</td>\n",
       "      <td>0.005986</td>\n",
       "      <td>0.421979</td>\n",
       "      <td>0.000425</td>\n",
       "      <td>0.098890</td>\n",
       "      <td>1980</td>\n",
       "    </tr>\n",
       "    <tr>\n",
       "      <th>4</th>\n",
       "      <td>0.037964</td>\n",
       "      <td>0.427980</td>\n",
       "      <td>0.084595</td>\n",
       "      <td>0.000232</td>\n",
       "      <td>0.263076</td>\n",
       "      <td>0.164987</td>\n",
       "      <td>0.495515</td>\n",
       "      <td>0.000461</td>\n",
       "      <td>0.004360</td>\n",
       "      <td>1990</td>\n",
       "    </tr>\n",
       "  </tbody>\n",
       "</table>\n",
       "</div>"
      ],
      "text/plain": [
       "   hTopic_01  hTopic_03  hTopic_05  hTopic_06  tTopic_01  tTopic_02  \\\n",
       "0   0.055174   0.553018   0.000212   0.047303   0.444447   0.005474   \n",
       "1   0.027827   0.587047   0.056217   0.000212   0.308091   0.070154   \n",
       "2   0.028861   0.549706   0.079899   0.000219   0.368978   0.058471   \n",
       "3   0.008139   0.195825   0.093734   0.054064   0.343546   0.005986   \n",
       "4   0.037964   0.427980   0.084595   0.000232   0.263076   0.164987   \n",
       "\n",
       "   tTopic_03  tTopic_04  tTopic_05  decade  \n",
       "0   0.000650   0.134949   0.381252    1980  \n",
       "1   0.255784   0.000456   0.217727    2000  \n",
       "2   0.248061   0.011694   0.087592    1980  \n",
       "3   0.421979   0.000425   0.098890    1980  \n",
       "4   0.495515   0.000461   0.004360    1990  "
      ]
     },
     "execution_count": 80,
     "metadata": {},
     "output_type": "execute_result"
    }
   ],
   "source": [
    "# reassign 'decade' column to smaller_decadeInput_copy\n",
    "smaller_decadeInput_copy = smaller_decadeInput.copy()\n",
    "smaller_decadeInput_copy['decade'] = music_df['decade']\n",
    "smaller_decadeInput_copy.head()"
   ]
  },
  {
   "cell_type": "code",
   "execution_count": 36,
   "metadata": {
    "collapsed": true
   },
   "outputs": [],
   "source": [
    "# Assign to dataframes for 1960s and 1990s"
   ]
  },
  {
   "cell_type": "code",
   "execution_count": 81,
   "metadata": {
    "collapsed": false
   },
   "outputs": [
    {
     "data": {
      "text/html": [
       "<div>\n",
       "<style>\n",
       "    .dataframe thead tr:only-child th {\n",
       "        text-align: right;\n",
       "    }\n",
       "\n",
       "    .dataframe thead th {\n",
       "        text-align: left;\n",
       "    }\n",
       "\n",
       "    .dataframe tbody tr th {\n",
       "        vertical-align: top;\n",
       "    }\n",
       "</style>\n",
       "<table border=\"1\" class=\"dataframe\">\n",
       "  <thead>\n",
       "    <tr style=\"text-align: right;\">\n",
       "      <th></th>\n",
       "      <th>hTopic_01</th>\n",
       "      <th>hTopic_03</th>\n",
       "      <th>hTopic_05</th>\n",
       "      <th>hTopic_06</th>\n",
       "      <th>tTopic_01</th>\n",
       "      <th>tTopic_02</th>\n",
       "      <th>tTopic_03</th>\n",
       "      <th>tTopic_04</th>\n",
       "      <th>tTopic_05</th>\n",
       "      <th>decade</th>\n",
       "    </tr>\n",
       "  </thead>\n",
       "  <tbody>\n",
       "    <tr>\n",
       "      <th>12</th>\n",
       "      <td>0.145440</td>\n",
       "      <td>0.550120</td>\n",
       "      <td>0.039307</td>\n",
       "      <td>0.000211</td>\n",
       "      <td>0.000381</td>\n",
       "      <td>0.422229</td>\n",
       "      <td>0.000409</td>\n",
       "      <td>0.000391</td>\n",
       "      <td>0.000373</td>\n",
       "      <td>1960</td>\n",
       "    </tr>\n",
       "    <tr>\n",
       "      <th>13</th>\n",
       "      <td>0.118328</td>\n",
       "      <td>0.114935</td>\n",
       "      <td>0.008476</td>\n",
       "      <td>0.407516</td>\n",
       "      <td>0.112866</td>\n",
       "      <td>0.035378</td>\n",
       "      <td>0.064973</td>\n",
       "      <td>0.134022</td>\n",
       "      <td>0.449708</td>\n",
       "      <td>1960</td>\n",
       "    </tr>\n",
       "    <tr>\n",
       "      <th>15</th>\n",
       "      <td>0.121243</td>\n",
       "      <td>0.000252</td>\n",
       "      <td>0.218266</td>\n",
       "      <td>0.443894</td>\n",
       "      <td>0.401684</td>\n",
       "      <td>0.276826</td>\n",
       "      <td>0.000455</td>\n",
       "      <td>0.020672</td>\n",
       "      <td>0.114920</td>\n",
       "      <td>1960</td>\n",
       "    </tr>\n",
       "    <tr>\n",
       "      <th>16</th>\n",
       "      <td>0.637970</td>\n",
       "      <td>0.137656</td>\n",
       "      <td>0.061474</td>\n",
       "      <td>0.027952</td>\n",
       "      <td>0.000639</td>\n",
       "      <td>0.038528</td>\n",
       "      <td>0.000594</td>\n",
       "      <td>0.266308</td>\n",
       "      <td>0.475756</td>\n",
       "      <td>1960</td>\n",
       "    </tr>\n",
       "    <tr>\n",
       "      <th>17</th>\n",
       "      <td>0.321529</td>\n",
       "      <td>0.119727</td>\n",
       "      <td>0.000209</td>\n",
       "      <td>0.040157</td>\n",
       "      <td>0.187267</td>\n",
       "      <td>0.182332</td>\n",
       "      <td>0.037438</td>\n",
       "      <td>0.180840</td>\n",
       "      <td>0.151354</td>\n",
       "      <td>1960</td>\n",
       "    </tr>\n",
       "  </tbody>\n",
       "</table>\n",
       "</div>"
      ],
      "text/plain": [
       "    hTopic_01  hTopic_03  hTopic_05  hTopic_06  tTopic_01  tTopic_02  \\\n",
       "12   0.145440   0.550120   0.039307   0.000211   0.000381   0.422229   \n",
       "13   0.118328   0.114935   0.008476   0.407516   0.112866   0.035378   \n",
       "15   0.121243   0.000252   0.218266   0.443894   0.401684   0.276826   \n",
       "16   0.637970   0.137656   0.061474   0.027952   0.000639   0.038528   \n",
       "17   0.321529   0.119727   0.000209   0.040157   0.187267   0.182332   \n",
       "\n",
       "    tTopic_03  tTopic_04  tTopic_05  decade  \n",
       "12   0.000409   0.000391   0.000373    1960  \n",
       "13   0.064973   0.134022   0.449708    1960  \n",
       "15   0.000455   0.020672   0.114920    1960  \n",
       "16   0.000594   0.266308   0.475756    1960  \n",
       "17   0.037438   0.180840   0.151354    1960  "
      ]
     },
     "execution_count": 81,
     "metadata": {},
     "output_type": "execute_result"
    }
   ],
   "source": [
    "\n",
    "df_1960s = smaller_decadeInput_copy.loc[smaller_decadeInput_copy['decade'] == 1960.00]\n",
    "df_1990s = smaller_decadeInput_copy.loc[smaller_decadeInput_copy['decade'] == 1990.00]\n",
    "df_1960s.head()"
   ]
  },
  {
   "cell_type": "code",
   "execution_count": 82,
   "metadata": {
    "collapsed": false
   },
   "outputs": [
    {
     "data": {
      "text/html": [
       "<div>\n",
       "<style>\n",
       "    .dataframe thead tr:only-child th {\n",
       "        text-align: right;\n",
       "    }\n",
       "\n",
       "    .dataframe thead th {\n",
       "        text-align: left;\n",
       "    }\n",
       "\n",
       "    .dataframe tbody tr th {\n",
       "        vertical-align: top;\n",
       "    }\n",
       "</style>\n",
       "<table border=\"1\" class=\"dataframe\">\n",
       "  <thead>\n",
       "    <tr style=\"text-align: right;\">\n",
       "      <th></th>\n",
       "      <th>hTopic_01</th>\n",
       "      <th>hTopic_03</th>\n",
       "      <th>hTopic_05</th>\n",
       "      <th>hTopic_06</th>\n",
       "      <th>tTopic_01</th>\n",
       "      <th>tTopic_02</th>\n",
       "      <th>tTopic_03</th>\n",
       "      <th>tTopic_04</th>\n",
       "      <th>tTopic_05</th>\n",
       "      <th>decade</th>\n",
       "    </tr>\n",
       "  </thead>\n",
       "  <tbody>\n",
       "    <tr>\n",
       "      <th>4</th>\n",
       "      <td>0.037964</td>\n",
       "      <td>0.427980</td>\n",
       "      <td>0.084595</td>\n",
       "      <td>0.000232</td>\n",
       "      <td>0.263076</td>\n",
       "      <td>0.164987</td>\n",
       "      <td>0.495515</td>\n",
       "      <td>0.000461</td>\n",
       "      <td>0.004360</td>\n",
       "      <td>1990</td>\n",
       "    </tr>\n",
       "    <tr>\n",
       "      <th>5</th>\n",
       "      <td>0.032561</td>\n",
       "      <td>0.095055</td>\n",
       "      <td>0.752497</td>\n",
       "      <td>0.013210</td>\n",
       "      <td>0.221291</td>\n",
       "      <td>0.095613</td>\n",
       "      <td>0.425602</td>\n",
       "      <td>0.016056</td>\n",
       "      <td>0.008389</td>\n",
       "      <td>1990</td>\n",
       "    </tr>\n",
       "    <tr>\n",
       "      <th>6</th>\n",
       "      <td>0.011025</td>\n",
       "      <td>0.301181</td>\n",
       "      <td>0.071222</td>\n",
       "      <td>0.011870</td>\n",
       "      <td>0.338328</td>\n",
       "      <td>0.189655</td>\n",
       "      <td>0.198720</td>\n",
       "      <td>0.122192</td>\n",
       "      <td>0.000482</td>\n",
       "      <td>1990</td>\n",
       "    </tr>\n",
       "    <tr>\n",
       "      <th>7</th>\n",
       "      <td>0.000211</td>\n",
       "      <td>0.025405</td>\n",
       "      <td>0.823912</td>\n",
       "      <td>0.043281</td>\n",
       "      <td>0.244026</td>\n",
       "      <td>0.247049</td>\n",
       "      <td>0.452571</td>\n",
       "      <td>0.000369</td>\n",
       "      <td>0.008787</td>\n",
       "      <td>1990</td>\n",
       "    </tr>\n",
       "    <tr>\n",
       "      <th>10</th>\n",
       "      <td>0.000217</td>\n",
       "      <td>0.614482</td>\n",
       "      <td>0.010395</td>\n",
       "      <td>0.000213</td>\n",
       "      <td>0.061883</td>\n",
       "      <td>0.737034</td>\n",
       "      <td>0.122796</td>\n",
       "      <td>0.027249</td>\n",
       "      <td>0.015724</td>\n",
       "      <td>1990</td>\n",
       "    </tr>\n",
       "  </tbody>\n",
       "</table>\n",
       "</div>"
      ],
      "text/plain": [
       "    hTopic_01  hTopic_03  hTopic_05  hTopic_06  tTopic_01  tTopic_02  \\\n",
       "4    0.037964   0.427980   0.084595   0.000232   0.263076   0.164987   \n",
       "5    0.032561   0.095055   0.752497   0.013210   0.221291   0.095613   \n",
       "6    0.011025   0.301181   0.071222   0.011870   0.338328   0.189655   \n",
       "7    0.000211   0.025405   0.823912   0.043281   0.244026   0.247049   \n",
       "10   0.000217   0.614482   0.010395   0.000213   0.061883   0.737034   \n",
       "\n",
       "    tTopic_03  tTopic_04  tTopic_05  decade  \n",
       "4    0.495515   0.000461   0.004360    1990  \n",
       "5    0.425602   0.016056   0.008389    1990  \n",
       "6    0.198720   0.122192   0.000482    1990  \n",
       "7    0.452571   0.000369   0.008787    1990  \n",
       "10   0.122796   0.027249   0.015724    1990  "
      ]
     },
     "execution_count": 82,
     "metadata": {},
     "output_type": "execute_result"
    }
   ],
   "source": [
    "df_1990s.head()"
   ]
  },
  {
   "cell_type": "code",
   "execution_count": 83,
   "metadata": {
    "collapsed": false
   },
   "outputs": [
    {
     "data": {
      "text/html": [
       "<div>\n",
       "<style>\n",
       "    .dataframe thead tr:only-child th {\n",
       "        text-align: right;\n",
       "    }\n",
       "\n",
       "    .dataframe thead th {\n",
       "        text-align: left;\n",
       "    }\n",
       "\n",
       "    .dataframe tbody tr th {\n",
       "        vertical-align: top;\n",
       "    }\n",
       "</style>\n",
       "<table border=\"1\" class=\"dataframe\">\n",
       "  <thead>\n",
       "    <tr style=\"text-align: right;\">\n",
       "      <th></th>\n",
       "      <th>hTopic_01</th>\n",
       "      <th>hTopic_03</th>\n",
       "      <th>hTopic_05</th>\n",
       "      <th>hTopic_06</th>\n",
       "      <th>tTopic_01</th>\n",
       "      <th>tTopic_02</th>\n",
       "      <th>tTopic_03</th>\n",
       "      <th>tTopic_04</th>\n",
       "      <th>tTopic_05</th>\n",
       "      <th>decade</th>\n",
       "    </tr>\n",
       "  </thead>\n",
       "  <tbody>\n",
       "    <tr>\n",
       "      <th>count</th>\n",
       "      <td>4997.000000</td>\n",
       "      <td>4997.000000</td>\n",
       "      <td>4997.000000</td>\n",
       "      <td>4997.000000</td>\n",
       "      <td>4997.000000</td>\n",
       "      <td>4997.000000</td>\n",
       "      <td>4997.000000</td>\n",
       "      <td>4997.000000</td>\n",
       "      <td>4997.000000</td>\n",
       "      <td>4997.0</td>\n",
       "    </tr>\n",
       "    <tr>\n",
       "      <th>mean</th>\n",
       "      <td>0.150561</td>\n",
       "      <td>0.107035</td>\n",
       "      <td>0.044319</td>\n",
       "      <td>0.075200</td>\n",
       "      <td>0.082064</td>\n",
       "      <td>0.122852</td>\n",
       "      <td>0.058857</td>\n",
       "      <td>0.207306</td>\n",
       "      <td>0.155454</td>\n",
       "      <td>1960.0</td>\n",
       "    </tr>\n",
       "    <tr>\n",
       "      <th>std</th>\n",
       "      <td>0.165212</td>\n",
       "      <td>0.139522</td>\n",
       "      <td>0.087776</td>\n",
       "      <td>0.102996</td>\n",
       "      <td>0.121187</td>\n",
       "      <td>0.176653</td>\n",
       "      <td>0.095832</td>\n",
       "      <td>0.171609</td>\n",
       "      <td>0.203545</td>\n",
       "      <td>0.0</td>\n",
       "    </tr>\n",
       "    <tr>\n",
       "      <th>min</th>\n",
       "      <td>0.000207</td>\n",
       "      <td>0.000207</td>\n",
       "      <td>0.000207</td>\n",
       "      <td>0.000207</td>\n",
       "      <td>0.000215</td>\n",
       "      <td>0.000216</td>\n",
       "      <td>0.000273</td>\n",
       "      <td>0.000215</td>\n",
       "      <td>0.000215</td>\n",
       "      <td>1960.0</td>\n",
       "    </tr>\n",
       "    <tr>\n",
       "      <th>25%</th>\n",
       "      <td>0.012517</td>\n",
       "      <td>0.002888</td>\n",
       "      <td>0.000211</td>\n",
       "      <td>0.000222</td>\n",
       "      <td>0.000502</td>\n",
       "      <td>0.000615</td>\n",
       "      <td>0.000534</td>\n",
       "      <td>0.064760</td>\n",
       "      <td>0.000593</td>\n",
       "      <td>1960.0</td>\n",
       "    </tr>\n",
       "    <tr>\n",
       "      <th>50%</th>\n",
       "      <td>0.100565</td>\n",
       "      <td>0.049972</td>\n",
       "      <td>0.005559</td>\n",
       "      <td>0.035700</td>\n",
       "      <td>0.024831</td>\n",
       "      <td>0.045178</td>\n",
       "      <td>0.021794</td>\n",
       "      <td>0.179421</td>\n",
       "      <td>0.061476</td>\n",
       "      <td>1960.0</td>\n",
       "    </tr>\n",
       "    <tr>\n",
       "      <th>75%</th>\n",
       "      <td>0.234467</td>\n",
       "      <td>0.158513</td>\n",
       "      <td>0.052817</td>\n",
       "      <td>0.110503</td>\n",
       "      <td>0.120169</td>\n",
       "      <td>0.170585</td>\n",
       "      <td>0.081408</td>\n",
       "      <td>0.318125</td>\n",
       "      <td>0.241937</td>\n",
       "      <td>1960.0</td>\n",
       "    </tr>\n",
       "    <tr>\n",
       "      <th>max</th>\n",
       "      <td>0.980424</td>\n",
       "      <td>0.905078</td>\n",
       "      <td>0.932671</td>\n",
       "      <td>0.778252</td>\n",
       "      <td>0.874877</td>\n",
       "      <td>0.997886</td>\n",
       "      <td>0.998494</td>\n",
       "      <td>0.871096</td>\n",
       "      <td>0.992640</td>\n",
       "      <td>1960.0</td>\n",
       "    </tr>\n",
       "  </tbody>\n",
       "</table>\n",
       "</div>"
      ],
      "text/plain": [
       "         hTopic_01    hTopic_03    hTopic_05    hTopic_06    tTopic_01  \\\n",
       "count  4997.000000  4997.000000  4997.000000  4997.000000  4997.000000   \n",
       "mean      0.150561     0.107035     0.044319     0.075200     0.082064   \n",
       "std       0.165212     0.139522     0.087776     0.102996     0.121187   \n",
       "min       0.000207     0.000207     0.000207     0.000207     0.000215   \n",
       "25%       0.012517     0.002888     0.000211     0.000222     0.000502   \n",
       "50%       0.100565     0.049972     0.005559     0.035700     0.024831   \n",
       "75%       0.234467     0.158513     0.052817     0.110503     0.120169   \n",
       "max       0.980424     0.905078     0.932671     0.778252     0.874877   \n",
       "\n",
       "         tTopic_02    tTopic_03    tTopic_04    tTopic_05  decade  \n",
       "count  4997.000000  4997.000000  4997.000000  4997.000000  4997.0  \n",
       "mean      0.122852     0.058857     0.207306     0.155454  1960.0  \n",
       "std       0.176653     0.095832     0.171609     0.203545     0.0  \n",
       "min       0.000216     0.000273     0.000215     0.000215  1960.0  \n",
       "25%       0.000615     0.000534     0.064760     0.000593  1960.0  \n",
       "50%       0.045178     0.021794     0.179421     0.061476  1960.0  \n",
       "75%       0.170585     0.081408     0.318125     0.241937  1960.0  \n",
       "max       0.997886     0.998494     0.871096     0.992640  1960.0  "
      ]
     },
     "execution_count": 83,
     "metadata": {},
     "output_type": "execute_result"
    }
   ],
   "source": [
    "# Describe the data, look at standard deviation\n",
    "df_1960s.describe()"
   ]
  },
  {
   "cell_type": "code",
   "execution_count": 84,
   "metadata": {
    "collapsed": false
   },
   "outputs": [
    {
     "data": {
      "text/html": [
       "<div>\n",
       "<style>\n",
       "    .dataframe thead tr:only-child th {\n",
       "        text-align: right;\n",
       "    }\n",
       "\n",
       "    .dataframe thead th {\n",
       "        text-align: left;\n",
       "    }\n",
       "\n",
       "    .dataframe tbody tr th {\n",
       "        vertical-align: top;\n",
       "    }\n",
       "</style>\n",
       "<table border=\"1\" class=\"dataframe\">\n",
       "  <thead>\n",
       "    <tr style=\"text-align: right;\">\n",
       "      <th></th>\n",
       "      <th>hTopic_01</th>\n",
       "      <th>hTopic_03</th>\n",
       "      <th>hTopic_05</th>\n",
       "      <th>hTopic_06</th>\n",
       "      <th>tTopic_01</th>\n",
       "      <th>tTopic_02</th>\n",
       "      <th>tTopic_03</th>\n",
       "      <th>tTopic_04</th>\n",
       "      <th>tTopic_05</th>\n",
       "      <th>decade</th>\n",
       "    </tr>\n",
       "  </thead>\n",
       "  <tbody>\n",
       "    <tr>\n",
       "      <th>count</th>\n",
       "      <td>2483.000000</td>\n",
       "      <td>2483.000000</td>\n",
       "      <td>2483.000000</td>\n",
       "      <td>2483.000000</td>\n",
       "      <td>2483.000000</td>\n",
       "      <td>2483.000000</td>\n",
       "      <td>2483.000000</td>\n",
       "      <td>2483.000000</td>\n",
       "      <td>2483.000000</td>\n",
       "      <td>2483.0</td>\n",
       "    </tr>\n",
       "    <tr>\n",
       "      <th>mean</th>\n",
       "      <td>0.068287</td>\n",
       "      <td>0.184545</td>\n",
       "      <td>0.155307</td>\n",
       "      <td>0.068112</td>\n",
       "      <td>0.201410</td>\n",
       "      <td>0.138588</td>\n",
       "      <td>0.152623</td>\n",
       "      <td>0.118817</td>\n",
       "      <td>0.139420</td>\n",
       "      <td>1990.0</td>\n",
       "    </tr>\n",
       "    <tr>\n",
       "      <th>std</th>\n",
       "      <td>0.106868</td>\n",
       "      <td>0.196360</td>\n",
       "      <td>0.248292</td>\n",
       "      <td>0.093167</td>\n",
       "      <td>0.177241</td>\n",
       "      <td>0.188690</td>\n",
       "      <td>0.192173</td>\n",
       "      <td>0.142729</td>\n",
       "      <td>0.210230</td>\n",
       "      <td>0.0</td>\n",
       "    </tr>\n",
       "    <tr>\n",
       "      <th>min</th>\n",
       "      <td>0.000207</td>\n",
       "      <td>0.000207</td>\n",
       "      <td>0.000207</td>\n",
       "      <td>0.000207</td>\n",
       "      <td>0.000254</td>\n",
       "      <td>0.000280</td>\n",
       "      <td>0.000282</td>\n",
       "      <td>0.000249</td>\n",
       "      <td>0.000248</td>\n",
       "      <td>1990.0</td>\n",
       "    </tr>\n",
       "    <tr>\n",
       "      <th>25%</th>\n",
       "      <td>0.000219</td>\n",
       "      <td>0.024142</td>\n",
       "      <td>0.000211</td>\n",
       "      <td>0.000221</td>\n",
       "      <td>0.055877</td>\n",
       "      <td>0.003628</td>\n",
       "      <td>0.000576</td>\n",
       "      <td>0.005892</td>\n",
       "      <td>0.000734</td>\n",
       "      <td>1990.0</td>\n",
       "    </tr>\n",
       "    <tr>\n",
       "      <th>50%</th>\n",
       "      <td>0.022848</td>\n",
       "      <td>0.117528</td>\n",
       "      <td>0.018830</td>\n",
       "      <td>0.028213</td>\n",
       "      <td>0.160388</td>\n",
       "      <td>0.048536</td>\n",
       "      <td>0.065337</td>\n",
       "      <td>0.063977</td>\n",
       "      <td>0.042882</td>\n",
       "      <td>1990.0</td>\n",
       "    </tr>\n",
       "    <tr>\n",
       "      <th>75%</th>\n",
       "      <td>0.095836</td>\n",
       "      <td>0.289544</td>\n",
       "      <td>0.208625</td>\n",
       "      <td>0.103638</td>\n",
       "      <td>0.305776</td>\n",
       "      <td>0.200883</td>\n",
       "      <td>0.259273</td>\n",
       "      <td>0.181148</td>\n",
       "      <td>0.184560</td>\n",
       "      <td>1990.0</td>\n",
       "    </tr>\n",
       "    <tr>\n",
       "      <th>max</th>\n",
       "      <td>0.916958</td>\n",
       "      <td>0.981016</td>\n",
       "      <td>0.995867</td>\n",
       "      <td>0.544076</td>\n",
       "      <td>0.970539</td>\n",
       "      <td>0.997993</td>\n",
       "      <td>0.858060</td>\n",
       "      <td>0.858250</td>\n",
       "      <td>0.997597</td>\n",
       "      <td>1990.0</td>\n",
       "    </tr>\n",
       "  </tbody>\n",
       "</table>\n",
       "</div>"
      ],
      "text/plain": [
       "         hTopic_01    hTopic_03    hTopic_05    hTopic_06    tTopic_01  \\\n",
       "count  2483.000000  2483.000000  2483.000000  2483.000000  2483.000000   \n",
       "mean      0.068287     0.184545     0.155307     0.068112     0.201410   \n",
       "std       0.106868     0.196360     0.248292     0.093167     0.177241   \n",
       "min       0.000207     0.000207     0.000207     0.000207     0.000254   \n",
       "25%       0.000219     0.024142     0.000211     0.000221     0.055877   \n",
       "50%       0.022848     0.117528     0.018830     0.028213     0.160388   \n",
       "75%       0.095836     0.289544     0.208625     0.103638     0.305776   \n",
       "max       0.916958     0.981016     0.995867     0.544076     0.970539   \n",
       "\n",
       "         tTopic_02    tTopic_03    tTopic_04    tTopic_05  decade  \n",
       "count  2483.000000  2483.000000  2483.000000  2483.000000  2483.0  \n",
       "mean      0.138588     0.152623     0.118817     0.139420  1990.0  \n",
       "std       0.188690     0.192173     0.142729     0.210230     0.0  \n",
       "min       0.000280     0.000282     0.000249     0.000248  1990.0  \n",
       "25%       0.003628     0.000576     0.005892     0.000734  1990.0  \n",
       "50%       0.048536     0.065337     0.063977     0.042882  1990.0  \n",
       "75%       0.200883     0.259273     0.181148     0.184560  1990.0  \n",
       "max       0.997993     0.858060     0.858250     0.997597  1990.0  "
      ]
     },
     "execution_count": 84,
     "metadata": {},
     "output_type": "execute_result"
    }
   ],
   "source": [
    "# Describe the data, look at standard deviation\n",
    "df_1990s.describe()"
   ]
  },
  {
   "cell_type": "code",
   "execution_count": 85,
   "metadata": {
    "collapsed": false
   },
   "outputs": [
    {
     "name": "stdout",
     "output_type": "stream",
     "text": [
      "1990 accuracy: 85.47 %\n",
      "THIS IS THE CONFUSION MATRIX:\n",
      "[[3653    0]\n",
      " [ 621    0]]\n",
      "THIS IS THE CLASSIFICATION REPORT:\n",
      "             precision    recall  f1-score   support\n",
      "\n",
      "      False       0.85      1.00      0.92      3653\n",
      "       True       0.00      0.00      0.00       621\n",
      "\n",
      "avg / total       0.73      0.85      0.79      4274\n",
      "\n"
     ]
    },
    {
     "name": "stderr",
     "output_type": "stream",
     "text": [
      "/Users/bendbir/anaconda/lib/python3.5/site-packages/sklearn/metrics/classification.py:1135: UndefinedMetricWarning: Precision and F-score are ill-defined and being set to 0.0 in labels with no predicted samples.\n",
      "  'precision', 'predicted', average, warn_for)\n"
     ]
    }
   ],
   "source": [
    "# Let's assess the performance of our best classifier, just 1990s\n",
    "# with a confusion matrix and classification report.\n",
    "# Generate the confusion matrix and classification report\n",
    "\n",
    "print(\"1990 accuracy:\", round((accuracy_score(decadeLabelTest4, decade_music_pred4)*100),2), \"%\")\n",
    "\n",
    "print (\"THIS IS THE CONFUSION MATRIX:\")\n",
    "print(confusion_matrix(decadeLabelTest4, decade_music_pred4))\n",
    "print (\"THIS IS THE CLASSIFICATION REPORT:\")\n",
    "print(classification_report(decadeLabelTest4, decade_music_pred4))\n",
    "      "
   ]
  },
  {
   "cell_type": "code",
   "execution_count": 86,
   "metadata": {
    "collapsed": false
   },
   "outputs": [
    {
     "data": {
      "text/html": [
       "<div>\n",
       "<style>\n",
       "    .dataframe thead tr:only-child th {\n",
       "        text-align: right;\n",
       "    }\n",
       "\n",
       "    .dataframe thead th {\n",
       "        text-align: left;\n",
       "    }\n",
       "\n",
       "    .dataframe tbody tr th {\n",
       "        vertical-align: top;\n",
       "    }\n",
       "</style>\n",
       "<table border=\"1\" class=\"dataframe\">\n",
       "  <thead>\n",
       "    <tr style=\"text-align: right;\">\n",
       "      <th></th>\n",
       "      <th>decade</th>\n",
       "    </tr>\n",
       "  </thead>\n",
       "  <tbody>\n",
       "    <tr>\n",
       "      <th>count</th>\n",
       "      <td>4274</td>\n",
       "    </tr>\n",
       "    <tr>\n",
       "      <th>unique</th>\n",
       "      <td>2</td>\n",
       "    </tr>\n",
       "    <tr>\n",
       "      <th>top</th>\n",
       "      <td>False</td>\n",
       "    </tr>\n",
       "    <tr>\n",
       "      <th>freq</th>\n",
       "      <td>3653</td>\n",
       "    </tr>\n",
       "  </tbody>\n",
       "</table>\n",
       "</div>"
      ],
      "text/plain": [
       "       decade\n",
       "count    4274\n",
       "unique      2\n",
       "top     False\n",
       "freq     3653"
      ]
     },
     "execution_count": 86,
     "metadata": {},
     "output_type": "execute_result"
    }
   ],
   "source": [
    "decadeLabelTest4.describe()"
   ]
  },
  {
   "cell_type": "code",
   "execution_count": 87,
   "metadata": {
    "collapsed": false
   },
   "outputs": [
    {
     "name": "stdout",
     "output_type": "stream",
     "text": [
      "1960 accuracy: 63.27 %\n",
      "THIS IS THE CONFUSION MATRIX:\n",
      "[[1807 1218]\n",
      " [ 352  897]]\n",
      "THIS IS THE CLASSIFICATION REPORT:\n",
      "             precision    recall  f1-score   support\n",
      "\n",
      "      False       0.84      0.60      0.70      3025\n",
      "       True       0.42      0.72      0.53      1249\n",
      "\n",
      "avg / total       0.72      0.63      0.65      4274\n",
      "\n"
     ]
    }
   ],
   "source": [
    "# Let's assess the performance of 1960s classifier for comparison.\n",
    "\n",
    "print(\"1960 accuracy:\", round((accuracy_score(decadeLabelTest1, decade_music_pred1)*100),2), \"%\")\n",
    "\n",
    "print (\"THIS IS THE CONFUSION MATRIX:\")\n",
    "print(confusion_matrix(decadeLabelTest1, decade_music_pred1))\n",
    "print (\"THIS IS THE CLASSIFICATION REPORT:\")\n",
    "print(classification_report(decadeLabelTest1, decade_music_pred1))"
   ]
  },
  {
   "cell_type": "code",
   "execution_count": 92,
   "metadata": {
    "collapsed": true
   },
   "outputs": [],
   "source": [
    "# Now that we've explored Gaussian NB,\n",
    "# Let's see how the same data works\n",
    "# with different machine learning classifiers."
   ]
  },
  {
   "cell_type": "code",
   "execution_count": 93,
   "metadata": {
    "collapsed": true
   },
   "outputs": [],
   "source": [
    "# First, let's try a decision tree classifier\n",
    "from sklearn import tree"
   ]
  },
  {
   "cell_type": "code",
   "execution_count": 94,
   "metadata": {
    "collapsed": false
   },
   "outputs": [
    {
     "name": "stdout",
     "output_type": "stream",
     "text": [
      "Decision Tree Accuracy: 61.82\n"
     ]
    }
   ],
   "source": [
    "tree_clf = tree.DecisionTreeClassifier()\n",
    "tree_clf.fit(decadeInputTrain, decadeLabelTrain)\n",
    "tree_pred = tree_clf.predict(decadeInputTest)\n",
    "\n",
    "# What is our accuracy?\n",
    "print(\"Decision Tree Accuracy:\", round((accuracy_score(decadeLabelTest, tree_pred)*100),2))"
   ]
  },
  {
   "cell_type": "code",
   "execution_count": 95,
   "metadata": {
    "collapsed": true
   },
   "outputs": [],
   "source": [
    "# Interesting.  Similar performance to our \n",
    "# Let's also try a perceptron, for something different.\n",
    "# Import Perceptron\n",
    "from sklearn.linear_model import perceptron"
   ]
  },
  {
   "cell_type": "code",
   "execution_count": 96,
   "metadata": {
    "collapsed": false
   },
   "outputs": [
    {
     "name": "stderr",
     "output_type": "stream",
     "text": [
      "/Users/bendbir/anaconda/lib/python3.5/site-packages/sklearn/linear_model/stochastic_gradient.py:84: FutureWarning: max_iter and tol parameters have been added in <class 'sklearn.linear_model.perceptron.Perceptron'> in 0.19. If both are left unset, they default to max_iter=5 and tol=None. If tol is not None, max_iter defaults to max_iter=1000. From 0.21, default max_iter will be 1000, and default tol will be 1e-3.\n",
      "  \"and default tol will be 1e-3.\" % type(self), FutureWarning)\n",
      "/Users/bendbir/anaconda/lib/python3.5/site-packages/sklearn/utils/validation.py:547: DataConversionWarning: A column-vector y was passed when a 1d array was expected. Please change the shape of y to (n_samples, ), for example using ravel().\n",
      "  y = column_or_1d(y, warn=True)\n"
     ]
    },
    {
     "name": "stdout",
     "output_type": "stream",
     "text": [
      "Perceptron Accuracy: 65.6708268331\n"
     ]
    }
   ],
   "source": [
    "p_model = perceptron.Perceptron()\n",
    "p_model.fit(decadeInputTrain, decadeLabelTrain)\n",
    "\n",
    "# Test accuracy\n",
    "print('Perceptron Accuracy:', (100 * p_model.score(decadeInputTrain, decadeLabelTrain)))"
   ]
  },
  {
   "cell_type": "code",
   "execution_count": 97,
   "metadata": {
    "collapsed": true
   },
   "outputs": [],
   "source": [
    "# Finally, let's try logistic regression\n",
    "# Import LogisticRegression\n",
    "from sklearn.linear_model import LogisticRegression\n"
   ]
  },
  {
   "cell_type": "code",
   "execution_count": 98,
   "metadata": {
    "collapsed": false
   },
   "outputs": [
    {
     "name": "stdout",
     "output_type": "stream",
     "text": [
      "Decision Tree Accuracy: 61.82\n"
     ]
    },
    {
     "name": "stderr",
     "output_type": "stream",
     "text": [
      "/Users/bendbir/anaconda/lib/python3.5/site-packages/sklearn/utils/validation.py:547: DataConversionWarning: A column-vector y was passed when a 1d array was expected. Please change the shape of y to (n_samples, ), for example using ravel().\n",
      "  y = column_or_1d(y, warn=True)\n"
     ]
    }
   ],
   "source": [
    "logreg = LogisticRegression()\n",
    "logreg.fit(decadeInputTrain, decadeLabelTrain)\n",
    "logreg_pred = logreg.predict(decadeInputTest)\n",
    "\n",
    "# Test accuracy\n",
    "print(\"Decision Tree Accuracy:\", round((accuracy_score(decadeLabelTest, tree_pred)*100),2))"
   ]
  },
  {
   "cell_type": "code",
   "execution_count": null,
   "metadata": {
    "collapsed": true
   },
   "outputs": [],
   "source": []
  }
 ],
 "metadata": {
  "anaconda-cloud": {},
  "kernelspec": {
   "display_name": "Python [default]",
   "language": "python",
   "name": "python3"
  },
  "language_info": {
   "codemirror_mode": {
    "name": "ipython",
    "version": 3
   },
   "file_extension": ".py",
   "mimetype": "text/x-python",
   "name": "python",
   "nbconvert_exporter": "python",
   "pygments_lexer": "ipython3",
   "version": "3.5.2"
  }
 },
 "nbformat": 4,
 "nbformat_minor": 2
}
